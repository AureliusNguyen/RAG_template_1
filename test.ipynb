{
 "cells": [
  {
   "cell_type": "code",
   "execution_count": 39,
   "metadata": {},
   "outputs": [],
   "source": [
    "# Importing libraries\n",
    "\n",
    "import langchain\n",
    "import pinecone\n",
    "from pinecone.grpc import PineconeGRPC as Pinecone\n",
    "import langchain_pinecone\n",
    "from langchain_pinecone import PineconeEmbeddings\n",
    "from langchain_pinecone import PineconeVectorStore\n",
    "from langchain.document_loaders import PyPDFDirectoryLoader\n",
    "from langchain.text_splitter import RecursiveCharacterTextSplitter\n",
    "from langchain_openai import OpenAI\n",
    "\n",
    "\n"
   ]
  },
  {
   "cell_type": "code",
   "execution_count": 40,
   "metadata": {},
   "outputs": [
    {
     "data": {
      "text/plain": [
       "True"
      ]
     },
     "execution_count": 40,
     "metadata": {},
     "output_type": "execute_result"
    }
   ],
   "source": [
    "from dotenv import load_dotenv\n",
    "load_dotenv(dotenv_path='.env.local')\n"
   ]
  },
  {
   "cell_type": "code",
   "execution_count": 41,
   "metadata": {},
   "outputs": [],
   "source": [
    "import os"
   ]
  },
  {
   "cell_type": "code",
   "execution_count": 42,
   "metadata": {},
   "outputs": [],
   "source": [
    "## Read documents\n",
    "\n",
    "def read_doc(directory):\n",
    "    file_loader = PyPDFDirectoryLoader(directory)\n",
    "    documents = file_loader.load()\n",
    "    return documents\n"
   ]
  },
  {
   "cell_type": "code",
   "execution_count": 43,
   "metadata": {},
   "outputs": [
    {
     "name": "stderr",
     "output_type": "stream",
     "text": [
      "Unclosed client session\n",
      "client_session: <aiohttp.client.ClientSession object at 0x0000021BF9268B60>\n"
     ]
    },
    {
     "data": {
      "text/plain": [
       "8"
      ]
     },
     "execution_count": 43,
     "metadata": {},
     "output_type": "execute_result"
    }
   ],
   "source": [
    "doc = read_doc(\"documents/\")\n",
    "len(doc)"
   ]
  },
  {
   "cell_type": "code",
   "execution_count": 44,
   "metadata": {},
   "outputs": [],
   "source": [
    "## Divide the documents into chunks\n",
    "\n",
    "def chunk_data(docs, chunk_size=800, chunk_overlap=50):\n",
    "    text_splitter = RecursiveCharacterTextSplitter(chunk_size=chunk_size, chunk_overlap=chunk_overlap)\n",
    "    doc = text_splitter.split_documents(docs)\n",
    "    return doc\n",
    "           "
   ]
  },
  {
   "cell_type": "code",
   "execution_count": 45,
   "metadata": {},
   "outputs": [
    {
     "data": {
      "text/plain": [
       "[Document(page_content=\"AWS\\nLingo\\nand\\nExplanations\\n1.\\nVirtualization\\n:\\nThis\\nis\\nlike\\ncreating\\na\\npretend\\ncomputer\\nversion\\ninside\\na\\nreal\\none.\\nIt's\\nlike\\nhaving\\na\\ncomputer\\ninside\\nyour\\ncomputer.\\nCloud\\nproviders,\\nincluding\\nAWS,\\nuse\\nvirtualization\\nto\\ncreate\\ninstances\\nthat\\nyou\\ncan\\nuse\\njust\\nlike\\nreal\\ncomputers.\\n2.\\nElasticity\\n:\\nThink\\nof\\nthis\\nas\\nthe\\ncloud's\\nability\\nto\\nstretch\\nand\\nshrink\\nbased\\non\\ndemand.\\nIt's\\nlike\\nyour\\nroom\\nautomatically\\ngetting\\nbigger\\nwhen\\nyou\\nhave\\nfriends\\nover,\\nand\\nsmaller\\nwhen\\nthey\\nleave.\\nAWS\\nallows\\nyou\\nto\\nscale\\nyour\\nresources\\nup\\nor\\ndown\\nas\\nneeded.\\n3.\\nLoad\\nBalancing\\n:\\nImagine\\nyou're\\nat\\na\\nbuffet\\nwith\\nmultiple\\nserving\\nstations.\\nLoad\\nbalancing\\nis\\nlike\\nmaking\\nsure\\neveryone\\ngets\\ntheir\\nfood\\nquickly\\nby\\nsending\\nthem\\nto\\nthe\\nless\\ncrowded\\nstations.\\nIn\\nAWS,\\nload\\nbalancers\\ndistribute\\nincoming\\ntraffic\\nevenly\\namong\\nyour\", metadata={'source': 'documents\\\\AWS_stuff.pdf', 'page': 0}),\n",
       " Document(page_content=\"distribute\\nincoming\\ntraffic\\nevenly\\namong\\nyour\\ninstances.\\n4.\\nAuto\\nScaling\\n:\\nThis\\nis\\nlike\\nhaving\\na\\nmagic\\nbutton\\nthat\\nadds\\nmore\\nchairs\\nto\\nyour\\ntable\\nwhen\\nmore\\npeople\\narrive,\\nand\\nremoves\\nthem\\nwhen\\npeople\\nleave.\\nAWS\\nAuto\\nScaling\\nautomatically\\nadjusts\\nthe\\nnumber\\nof\\ninstances\\nbased\\non\\ntraffic.\\n5.\\nHigh\\nAvailability\\n:\\nThink\\nof\\nthis\\nas\\nmaking\\nsure\\nyour\\nwebsite\\nor\\napp\\nis\\nalways\\nup\\nand\\nrunning,\\neven\\nif\\nsomething\\ngoes\\nwrong.\\nIt's\\nlike\\nhaving\\nbackup\\nperformers\\nready\\nto\\nstep\\non\\nstage\\nif\\nthe\\nmain\\nact\\ncan't\\nmake\\nit.\\nAWS\\nprovides\\ntools\\nto\\nensure\\nhigh\\navailability.\\n6.\\nServerless\\n:\\nServerless\\nis\\nlike\\nhaving\\na\\npersonal\\nassistant\\nthat\\ntakes\\ncare\\nof\\neverything\\nfor\\nyou.\\nAWS\\nLambda\\nis\\na\\nserverless\\nservice\\nwhere\\nyou\\ncan\\nrun\\ncode\\nwithout\\nmanaging\\nthe\\nunderlying\\nserver.\\nYou\\njust\\nfocus\\non\\nyour\\ncode,\\nand\\nAWS\\nhandles\", metadata={'source': 'documents\\\\AWS_stuff.pdf', 'page': 0}),\n",
       " Document(page_content=\"You\\njust\\nfocus\\non\\nyour\\ncode,\\nand\\nAWS\\nhandles\\nthe\\nrest.\\n7.\\nIAM\\n(Identity\\nand\\nAccess\\nManagement):\\nImagine\\nyou're\\na\\nsecurity\\nguard\\nat\\na\\nparty,\\nchecking\\ninvites\\nand\\nallowing\\nonly\\nthe\\nright\\npeople\\nin.\\nIAM\\nin\\nAWS\\nis\\nlike\\nthat\\nsecurity\\nguard,\\ncontrolling\\nwho\\ncan\\naccess\\nwhat\\nresources.\\nIt\\nhelps\\nyou\\nmanage\\nusers,\\npermissions,\\nand\\nsecurity.\\nCopyright\\nVideoSchooOnlinel\\n&\\nBuildappswithpaulo\", metadata={'source': 'documents\\\\AWS_stuff.pdf', 'page': 0}),\n",
       " Document(page_content=\"8.\\nVPC\\n(Virtual\\nPrivate\\nCloud):\\nPicture\\nthis\\nas\\nbuilding\\nyour\\nown\\ngated\\ncommunity\\nin\\nthe\\ncloud.\\nYou\\ncreate\\nyour\\nown\\nisolated\\nnetwork\\nwith\\nits\\nown\\nrules\\nand\\nwalls.\\nAWS\\nVPC\\nlets\\nyou\\ndesign\\nyour\\nnetwork,\\nset\\nup\\nfirewalls,\\nand\\nconnect\\nyour\\ninstances.\\n9.\\nRegion\\nand\\nAvailability\\nZone\\n:\\nAWS\\nhas\\ndata\\ncenters\\nall\\naround\\nthe\\nworld.\\nThink\\nof\\nthese\\nas\\ndifferent\\ncities\\nwith\\ndifferent\\nneighborhoods.\\nEach\\ncity\\nhas\\nmultiple\\nneighborhoods\\n(availability\\nzones)\\nwith\\nits\\nown\\nresources.\\nRegions\\nare\\nlike\\nthe\\ncities\\nthemselves.\\n10.\\nAMI\\n(Amazon\\nMachine\\nImage):\\nAn\\nAMI\\nis\\nlike\\na\\nsnapshot\\nof\\na\\ncomputer's\\nsetup.\\nIt's\\nlike\\ntaking\\na\\npicture\\nof\\nyour\\ncomputer\\nwith\\nall\\nthe\\napps\\nand\\nsettings,\\nso\\nyou\\ncan\\neasily\\ncreate\\nidentical\\ncopies\\n(instances)\\nwhenever\\nyou\\nneed.\\n11.\\nCDN\\n(Content\\nDelivery\\nNetwork):\\nImagine\\nyou\\nhave\\na\", metadata={'source': 'documents\\\\AWS_stuff.pdf', 'page': 1}),\n",
       " Document(page_content=\"(Content\\nDelivery\\nNetwork):\\nImagine\\nyou\\nhave\\na\\nsuper-fast\\ndelivery\\nservice\\nthat\\nbrings\\nthings\\ncloser\\nto\\npeople's\\nhomes\\nso\\nthey\\ndon't\\nhave\\nto\\ntravel\\nfar.\\nA\\nCDN\\nin\\nAWS\\nhelps\\ndeliver\\nyour\\nwebsite's\\ncontent\\nquickly\\nby\\nstoring\\nit\\nin\\ndifferent\\nplaces\\naround\\nthe\\nworld.\\n12.\\nS3\\nBucket\\n:\\nAn\\nS3\\nbucket\\nis\\nlike\\na\\ndigital\\nstorage\\nbin.\\nIt's\\nwhere\\nyou\\nkeep\\nyour\\nfiles,\\nimages,\\nvideos,\\nand\\nmore.\\nJust\\nlike\\nyou\\nlabel\\nyour\\nphysical\\nboxes,\\nyou\\nname\\nyour\\nS3\\nbuckets\\nto\\norganize\\nyour\\nstuff.\\n13.\\nEC2\\n(Elastic\\nCompute\\nCloud)\\n:\\nEC2\\nis\\nlike\\na\\nblank\\nslate\\nfor\\na\\ncomputer.\\nIt's\\nan\\ninstance\\nyou\\ncan\\nset\\nup\\nwith\\nthe\\noperating\\nsystem,\\nsoftware,\\nand\\nconfiguration\\nyou\\nwant.\\nIt's\\nlike\\nhaving\\na\\ncomputer\\nthat\\nyou\\ncan\\ncustomize\\nfrom\\nscratch.\\n14.\\nRDS\\n(Relational\\nDatabase\\nService):\\nImagine\\nyou\\nhave\\na\\nsuper\\norganized\\nlibrary\\nfor\", metadata={'source': 'documents\\\\AWS_stuff.pdf', 'page': 1}),\n",
       " Document(page_content=\"Imagine\\nyou\\nhave\\na\\nsuper\\norganized\\nlibrary\\nfor\\ndifferent\\nkinds\\nof\\nbooks.\\nRDS\\nin\\nAWS\\nis\\nlike\\na\\nlibrary\\nfor\\nyour\\ndata,\\nwhere\\nyou\\ncan\\nstore\\nand\\nmanage\\ndifferent\\ntypes\\nof\\ninformation\\nin\\na\\nstructured\\nway.\\n15.\\nLambda\\nFunction:\\nA\\nLambda\\nfunction\\nis\\nlike\\na\\ntiny\\nrobot\\nthat\\ndoes\\na\\nspecific\\ntask\\nfor\\nyou.\\nYou\\ntell\\nit\\nwhat\\nto\\ndo,\\nand\\nit\\ndoes\\nit\\nautomatically.\\nIt's\\nperfect\\nfor\\nrunning\\ncode\\nwithout\\nworrying\\nabout\\nthe\\nserver\\nit's\\non.\\nCopyright\\nVideoSchooOnlinel\\n&\\nBuildappswithpaulo\", metadata={'source': 'documents\\\\AWS_stuff.pdf', 'page': 1}),\n",
       " Document(page_content=\"------\\n------\\nAWS\\nand\\nCloud\\nComputing\\nConcepts\\nBreakdown:\\n1.\\nIntroduction\\nto\\nCloud\\nComputing:\\nThink\\nof\\ncloud\\ncomputing\\nas\\nrenting\\nresources,\\nlike\\ncomputing\\npower\\nand\\nstorage,\\nfrom\\na\\nbig\\ntech\\ncompany\\nlike\\nAmazon\\n(AWS).\\nInstead\\nof\\nowning\\nand\\nmanaging\\nphysical\\nservers,\\nyou\\nuse\\nvirtual\\nones\\non\\nthe\\ninternet.\\nThis\\nsaves\\nmoney,\\ntime,\\nand\\nlets\\nyou\\nfocus\\non\\nyour\\nprojects.\\n2.\\nAWS\\nBasics:\\nAmazon\\nWeb\\nServices\\n(AWS)\\nis\\nlike\\na\\nmassive\\ntoolbox\\nin\\nthe\\ncloud.\\nIt\\nhas\\ntools\\nfor\\neverything\\nfrom\\nbuilding\\nwebsites\\nto\\nrunning\\ndata\\nanalysis.\\nImagine\\nit\\nas\\nyour\\ncloud\\nworkshop.\\n3.\\nInstances\\nand\\nServers:\\nIn\\nthe\\nreal\\nworld,\\nyou\\nhave\\na\\ncomputer.\\nIn\\nthe\\ncloud\\nworld,\\nyou\\nhave\\ninstances.\\nThese\\nare\\nvirtual\\ncomputers\\nyou\\ncan\\nturn\\non\\nor\\noff.\\nThey\\ncome\\nin\\ndifferent\\ntypes,\\nlike\\nt-shirts:\\nsmall,\\nmedium,\\nlarge,\\netc.\\nThey're\", metadata={'source': 'documents\\\\AWS_stuff.pdf', 'page': 2}),\n",
       " Document(page_content=\"like\\nt-shirts:\\nsmall,\\nmedium,\\nlarge,\\netc.\\nThey're\\nhandy\\nfor\\nrunning\\napplications.\\n4.\\nStorage\\nOptions:\\nJust\\nlike\\nyour\\nphone\\nneeds\\nstorage,\\nso\\ndo\\nyour\\ncloud\\nprojects.\\nAWS\\noffers\\ndifferent\\nstorage\\noptions:\\nS3\\n(Simple\\nStorage\\nService):\\nIt's\\nlike\\na\\nmagical\\ncloset\\nto\\nput\\nall\\nyour\\nstuff.\\nEBS\\n(Elastic\\nBlock\\nStore):\\nThink\\nof\\nit\\nas\\na\\nUSB\\ndrive\\nyou\\ncan\\nattach\\nto\\nyour\\ninstance.\\n5.\\nDatabases:\\nDatabases\\nare\\nlike\\norganized\\nstorage\\nfor\\ndata.\\nAWS\\nhas\\na\\nservice\\ncalled\\nRDS\\n(Relational\\nDatabase\\nService)\\nthat\\nhelps\\nyou\\nmanage\\ndatabases.\\nIt's\\nlike\\nhaving\\na\\nlibrarian\\nfor\\nyour\\ninformation.\\n6.\\nNetworking\\n:\\nImagine\\nif\\nyour\\ndevices\\ncould\\ntalk\\nto\\neach\\nother\\neasily.\\nThat's\\nwhat\\nnetworking\\nis\\nabout.\\nAWS\\nprovides\\ntools\\nto\\ncreate\\nnetworks,\\nset\\nup\\nfirewalls\\n(like\\nprotective\\nwalls),\\nand\\neven\\nconnect\\ndifferent\\nclouds.\", metadata={'source': 'documents\\\\AWS_stuff.pdf', 'page': 2}),\n",
       " Document(page_content='walls),\\nand\\neven\\nconnect\\ndifferent\\nclouds.\\nCopyright\\nVideoSchooOnlinel\\n&\\nBuildappswithpaulo', metadata={'source': 'documents\\\\AWS_stuff.pdf', 'page': 2}),\n",
       " Document(page_content=\"7.\\nSecurity\\n:\\nSecurity\\nis\\nsuper\\nimportant.\\nAWS\\nhelps\\nyou\\nprotect\\nyour\\ncloud\\nstuff\\nby\\ngiving\\nyou\\ntools\\nto\\ncontrol\\nwho\\ncan\\naccess\\nwhat.\\nThink\\nof\\nit\\nas\\ngiving\\nkeys\\nto\\nthe\\nright\\npeople\\nand\\nlocking\\nthe\\ndoors\\nto\\neveryone\\nelse.\\n8.\\nServices\\nfor\\nDevelopers:\\nAs\\na\\nprogrammer,\\nyou'll\\nlove\\nthis!\\nAWS\\noffers\\nservices\\nlike\\nLambda,\\nwhich\\nlets\\nyou\\nrun\\ncode\\nwithout\\nworrying\\nabout\\nservers.\\nIt's\\nlike\\nhaving\\na\\nhelper\\nthat\\ndoes\\nexactly\\nwhat\\nyou\\nsay.\\n9.\\nScaling\\n:\\nSometimes,\\nyour\\nproject\\nbecomes\\nsuper\\npopular.\\nAWS\\nhelps\\nyou\\nhandle\\nthat\\nby\\nletting\\nyou\\nincrease\\nthe\\nresources\\n(like\\nadding\\nmore\\ninstances)\\nwhen\\nneeded.\\nIt's\\nlike\\nhaving\\nextra\\nseats\\nfor\\nunexpected\\nguests.\\n10.\\nPricing\\n:\\nAWS\\noffers\\npay-as-you-go\\npricing.\\nIt's\\nlike\\npaying\\nonly\\nfor\\nthe\\ntime\\nyou\\nrent\\na\\nbike\\ninstead\\nof\\nbuying\\none.\\nBut\\nremember\\nto\\nturn\\noff\", metadata={'source': 'documents\\\\AWS_stuff.pdf', 'page': 3}),\n",
       " Document(page_content=\"instead\\nof\\nbuying\\none.\\nBut\\nremember\\nto\\nturn\\noff\\ninstances\\nwhen\\nyou're\\nnot\\nusing\\nthem\\nto\\nsave\\nmoney.\\nCopyright\\nVideoSchooOnlinel\\n&\\nBuildappswithpaulo\", metadata={'source': 'documents\\\\AWS_stuff.pdf', 'page': 3}),\n",
       " Document(page_content='Groq & the Language Processing Unit\\nGroq builds fast AI inference. The Groq LPU™, AI Inference Technology, delivers \\nexceptional compute speed, affordability, and energy efficiency at scale.  \\nGroq solutions are based on the Language Processing Unit (LPU), a new \\ncategory of processor. Groq is the creator of the LPU and built it from the \\nground up to meet the unique characteristics and needs of AI. LPUs run Large \\nLanguage Models (LLMs) at substantially faster speeds and, on an architectural \\nlevel, up to 10x better energy efficiency compared to GPUs.\\nThis paper explains the design principles of the Groq LPU and why its \\narchitecture delivers such exceptional performance.\\nWhat is a Language \\nProcessing Unit?', metadata={'source': 'documents\\\\groq.pdf', 'page': 0}),\n",
       " Document(page_content='groq.com  I    2\\n©2024 Groq, Inc. All rights reserved.Background\\nFrom Moore’s Law to AI Inference\\nFor decades computer software was the beneficiary of \\nMoore’s law, Gordon Moore’s self-fulfilling 1965 prophecy that \\nthe processing power of a chip would double roughly every \\ntwo years while keeping costs steady. The law held for several \\ndecades, aided by the growing use of multi-core processors \\n(CPUs and GPUs). \\nEach step of this hardware progression introduced more \\ncomplexity into systems. Multi-core CPUs and GPUs, for \\nexample, are quite powerful and can handle a range of \\napplications, but require ancillary components on the silicon \\n– caches, buffers, prefetchers – to optimize execution. This \\ncomplexity creates inconsistencies in the runtime execution', metadata={'source': 'documents\\\\groq.pdf', 'page': 1}),\n",
       " Document(page_content='of a program. This can be managed by software kernels, \\nwhich create better execution consistency but are quite \\ncomplex themselves.  \\nWith the shift towards inference plus the emergence of \\nLLMs and similar AI workloads, Groq took the opportunity to \\nrethink software and hardware architecture. LLMs are highly \\npowerful, but when run in inference, they rely on a limited set \\nof linear algebra operations, primarily matrix multiplication \\ntasks. AI inference compute boils down to running a massive \\namount of linear algebra operations on large-scale data. \\nWhile GPU hardware can host these operations, it isn’t \\ndesigned for it. GPUs will always be limited in how much \\nthey can increase inference speed and efficiency given that \\ntheir legacy architecture was built for independent parallel', metadata={'source': 'documents\\\\groq.pdf', 'page': 1}),\n",
       " Document(page_content='operations like graphics processing. \\nSo Groq built the LPU. Its four core design principles deliver \\nperformance advantages today and tomorrow.  \\n\\t\\x83Software-first\\n\\t\\x83Programmable assembly line architecture\\n\\t\\x83Deterministic compute and networking\\n\\t\\x83On-chip memoryLPU Design Principle 1\\nSoftware-first\\nThe Groq LPU architecture started with the principle of \\nsoftware-first. The objective was to make the software \\ndeveloper’s job of maximizing hardware utilization easier and \\nput as much control as possible in the developer’s hands. \\nGPUs are versatile and powerful; they can handle many \\ndifferent compute tasks. But they are also complex, putting \\nextra burden on the software. It must account for variability \\nin how a workload executes, within and across multiple chips,', metadata={'source': 'documents\\\\groq.pdf', 'page': 1}),\n",
       " Document(page_content='making scheduling runtime execution and maximizing \\nhardware utilization much more challenging. To maximize \\nhardware utilization on GPUs, every new AI model requires \\ncoding of model-specific kernels. This is where our software-\\nfirst principle is so important – with GPUs, the software is \\nalways secondary to the hardware. \\nThe Groq LPU was designed from the outset for linear algebra \\ncalculations – the primary requirement for AI inference. By \\nlimiting the focus to linear algebra compute and simplifying \\nthe multi-chip computation paradigm, Groq took a different \\napproach to AI inference and chip design. The LPU employs a \\nprogrammable assembly line architecture, which enables the \\nAI inference technology to use a generic, model-independent', metadata={'source': 'documents\\\\groq.pdf', 'page': 1}),\n",
       " Document(page_content='compiler and stay true to its software-first principle.  The \\nsoftware is always primary, in complete control of every step \\nof inference.\\nSoftware-first isn’t just a design principle though – it is \\nactually how Groq built its first generation chip, GroqChip 1 \\nprocessor. We didn’t touch chip design until the compiler’s \\narchitecture was designed. The compiler accepts workloads \\nfrom several different frameworks, running those workloads \\nthrough multiple stages. As the compiler maps and \\nschedules a program to run across one or multiple LPUs, \\nit optimizes performance and utilization. The result is a \\nprogram encompassing all data movement information \\nthroughout execution.\\nThe objective was to make \\nthe software developer’s \\njob of maximizing hardware \\nutilization easier and put as', metadata={'source': 'documents\\\\groq.pdf', 'page': 1}),\n",
       " Document(page_content='utilization easier and put as \\nmuch control as possible in \\nthe developer’s hands.', metadata={'source': 'documents\\\\groq.pdf', 'page': 1}),\n",
       " Document(page_content='groq.com  I    3\\n©2024 Groq, Inc. All rights reserved.LPU Design Principle 2\\nProgrammable Assembly Line Architecture\\nThe primary defining characteristic of the Groq LPU is its programmable assembly line architecture. \\nThe LPU features data “conveyor belts” which move instructions and data between the chip’s SIMD (single instruction/multiple \\ndata) function units. At each step of the assembly process, the function unit receives instructions via the conveyor belt. The \\ninstructions inform the function unit where it should go to get the input data (which conveyor belt), which function it should \\nperform with that data, and where it should place the output data. This process is all software-controlled; no synchronization is \\nrequired within the hardware.', metadata={'source': 'documents\\\\groq.pdf', 'page': 2}),\n",
       " Document(page_content='required within the hardware.\\nThe LPU programmable streaming architecture supports an assembly line process within a chip as well as between chips. There \\nis ample chip-to-chip bandwidth, which enables the data conveyor belts to flow between chips as easily as within a chip. There \\nis no need for routers or controllers for inter-chip connectivity, even at maximum capacity.\\nThe assembly line process within and across chips eliminates bottlenecks. There is no waiting for compute or memory resources \\nto complete a task. There is no need for additional controllers on the chip given there are no bottlenecks to manage. The \\nassembly line moves smoothly and efficiently, perfectly in sync.', metadata={'source': 'documents\\\\groq.pdf', 'page': 2}),\n",
       " Document(page_content='This is a big improvement compared to how GPUs work. GPUs operate in a multi-core “hub and spoke” model, where an \\ninefficient data paging approach requires significant overhead to shuttle data back and forth between the compute and \\nmemory units within and across chips. GPUs also utilize multiple hierarchies of external switches and networking chips, both \\nwithin and across racks, to communicate among themselves, further exacerbating the software’s scheduling complexity. The \\nresult is a hard-to-program, multi-core approach. \\nLPU Design Principle 3\\nDeterministic Compute & Networking\\nFor an assembly line to operate efficiently, there needs to be a high degree of certainty about exactly how long each step will', metadata={'source': 'documents\\\\groq.pdf', 'page': 2}),\n",
       " Document(page_content='take. If there is excessive variability in how long a particular task takes to execute, that variability manifests across the entire \\nassembly line. An efficient assembly line requires highly precise determinism. \\nThe LPU architecture is deterministic, meaning every execution step is completely predictable to the smallest execution period \\n(also known as clock cycle). The software-controlled hardware knows with a high degree of precision exactly when and where \\nan operation will occur and how long it will take.\\nThe Groq LPU programmable assembly line architecture (right) is much faster and more efficient than the GPU’s “hub and spoke” approach (left).', metadata={'source': 'documents\\\\groq.pdf', 'page': 2}),\n",
       " Document(page_content='groq.com  I    4\\n©2024 Groq, Inc. All rights reserved.\\nThe Groq LPU achieves its high degree of determinism by eliminating contention for critical resources, namely data bandwidth \\nand compute. There is ample capacity for routing data around the chip (the conveyor belts) and plenty of compute in the \\nchip’s functional units. There is no issue with different tasks using the same resource, so there are no execution delays due to \\nresource bottlenecks.  \\nThe same is true for routing data between chips. The LPU data conveyor belts also operate between chips, so connecting \\nchips results in a larger programmable assembly line. Data flow is statically scheduled by the software during compilation, and \\nexecutes the same way every time the program runs.  \\nLPU Design Principle 4\\nOn-chip Memory', metadata={'source': 'documents\\\\groq.pdf', 'page': 3}),\n",
       " Document(page_content='LPU Design Principle 4\\nOn-chip Memory\\nLPUs include both memory and compute on-chip, vastly improving the speed of storing and retrieving data while eliminating \\ntiming variation. While determinism ensures the assembly line runs efficiently and eliminates the variability of each compute \\nstage, on-chip memory enables it to run much faster. \\nGPUs utilize separate high-bandwidth memory chips, introducing complexity – multiple layers of memory cache, switches, \\nand routers to move the data back and forth – while also consuming significant energy. Having the memory on the same chip \\nimproves the efficiency and speed of each I/O action and removes complexity and uncertainty.  \\nGroq on-chip SRAM has memory bandidth upwards of 80 terabytes/second, while GPU off-chip HBM clocks in at about eight', metadata={'source': 'documents\\\\groq.pdf', 'page': 3}),\n",
       " Document(page_content='terabytes/second. That difference alone gives LPUs up to a 10X speed advantage, on top of the boost LPUs get from not having \\nto go back and forth to a separate memory chip to retrieve data. \\nAbout Groq\\nGroq builds fast AI inference. The Groq LPU™ AI Inference Technology delivers exceptional compute speed, quality, and energy \\nefficiency. Groq, headquartered in Silicon Valley, provides cloud and on-prem inference at scale for AI applications. The LPU and \\nrelated systems are designed, fabricated, and assembled in North America. Conclusion\\nThe LPU is Fast AI Inference\\nThe Groq LPU delivers exceptional speed, affordability, and energy efficiency at scale. Because of its inherent design principles,', metadata={'source': 'documents\\\\groq.pdf', 'page': 3}),\n",
       " Document(page_content='LPU performance superiority is durable. GPUs will continue to improve their speed and cost, but so will Groq, and at a \\nmuch faster clip. Our current chip set is built on a 14 nanometer process. As we move towards a 4 nanometer process, the \\nperformance advantages of LPU architecture will only increase. \\nThese are the “first principles” at Groq that guide LPU product development. They ensure we will sustain our substantial \\nperformance advantage even as GPU manufacturers attempt to close the gap.The assembly line process within and across chips \\neliminates bottlenecks. There is no waiting for \\ncompute or memory resources to complete a task.', metadata={'source': 'documents\\\\groq.pdf', 'page': 3})]"
      ]
     },
     "execution_count": 45,
     "metadata": {},
     "output_type": "execute_result"
    }
   ],
   "source": [
    "documents = chunk_data(docs=doc)\n",
    "documents"
   ]
  },
  {
   "cell_type": "code",
   "execution_count": 46,
   "metadata": {},
   "outputs": [],
   "source": [
    "# Embeddings \n",
    "model_name = \"multilingual-e5-large\"  \n",
    "pc_api_key = os.environ.get(\"PINECONE_API_KEY\")\n",
    "embeddings = PineconeEmbeddings(  \n",
    "    model=model_name,  \n",
    "    pinecone_api_key=pc_api_key  \n",
    ")  \n"
   ]
  },
  {
   "cell_type": "code",
   "execution_count": 47,
   "metadata": {},
   "outputs": [
    {
     "name": "stdout",
     "output_type": "stream",
     "text": [
      "[0.03741455078125, -0.017791748046875, -0.0164642333984375, -0.028961181640625, 0.036834716796875, -0.042205810546875, 0.0028781890869140625, 0.043060302734375, 0.04278564453125, -0.0259552001953125, 0.0167388916015625, 0.034332275390625, -0.06591796875, -0.05511474609375, -0.01003265380859375, -0.027374267578125, -0.0129547119140625, 0.0294952392578125, -0.0011644363403320312, -0.009490966796875, 0.00829315185546875, -5.3048133850097656e-05, -0.009063720703125, -0.03375244140625, 0.00015854835510253906, 0.0179901123046875, -0.0369873046875, -0.0142059326171875, -0.00701904296875, -0.042236328125, -0.01031494140625, 0.0217132568359375, -0.0204315185546875, -0.01349639892578125, -0.02734375, 0.041473388671875, 0.01197052001953125, 0.0207672119140625, -0.034454345703125, 0.0280914306640625, -0.04254150390625, 0.028717041015625, -0.005527496337890625, -0.034454345703125, -0.0030307769775390625, 0.019775390625, 0.0028934478759765625, 0.0007085800170898438, -0.00589752197265625, 0.0236663818359375, 0.03369140625, 0.03948974609375, -0.0016183853149414062, -0.0225982666015625, -0.037872314453125, 0.031005859375, -0.034332275390625, -0.0027637481689453125, -0.0933837890625, -0.00945281982421875, -0.0012655258178710938, -0.0108489990234375, 0.0091705322265625, -0.01497650146484375, -0.05810546875, 0.05926513671875, 0.01218414306640625, 0.0380859375, -0.058868408203125, 0.009857177734375, -0.006580352783203125, 0.026214599609375, -0.0173797607421875, 0.007198333740234375, -0.0045623779296875, -0.0124969482421875, 0.046905517578125, -0.010223388671875, 0.0177154541015625, -0.018890380859375, 0.07958984375, 0.0025348663330078125, 0.04010009765625, -0.0350341796875, 0.0250244140625, 0.0347900390625, 0.06915283203125, 0.027496337890625, 0.02606201171875, 0.01477813720703125, -0.00980377197265625, 0.0469970703125, -0.0008606910705566406, -0.033660888671875, -0.029998779296875, -0.005279541015625, 0.016143798828125, 0.025177001953125, 0.01136016845703125, 0.01232147216796875, -0.0128326416015625, -0.0207061767578125, 0.0294647216796875, -0.04571533203125, -0.0380859375, 0.05908203125, 0.03070068359375, 0.00989532470703125, 0.02484130859375, 0.01207733154296875, 0.031280517578125, 0.053802490234375, 0.022186279296875, -0.031951904296875, -0.011474609375, 0.0262298583984375, 0.0146026611328125, -0.0208740234375, -0.048583984375, 0.021026611328125, 0.043304443359375, 0.038818359375, -0.0189971923828125, -0.01129913330078125, 0.0222930908203125, -0.006977081298828125, 0.0264129638671875, 0.04205322265625, -0.0177154541015625, 0.02166748046875, 0.01219940185546875, 0.0247039794921875, -0.0396728515625, 0.005428314208984375, -0.0191497802734375, -0.023651123046875, -0.031341552734375, 0.0295257568359375, -0.047454833984375, 0.026031494140625, -0.0286102294921875, 0.042510986328125, 0.0286865234375, -0.0341796875, -0.058807373046875, -0.07000732421875, -0.039276123046875, 0.037384033203125, 0.0017995834350585938, -0.00466156005859375, 0.007694244384765625, -0.02679443359375, -0.0241851806640625, 0.04986572265625, 0.04754638671875, -0.010040283203125, 0.00569915771484375, 0.036529541015625, 0.013763427734375, 0.01100921630859375, -0.02880859375, -0.0301971435546875, -0.044036865234375, -0.0284271240234375, 0.0247039794921875, -0.00759124755859375, 0.0174560546875, 0.048065185546875, 0.025299072265625, -0.0135040283203125, -0.0201416015625, -0.0419921875, 0.0201568603515625, -0.058746337890625, -0.0009717941284179688, 0.033294677734375, 0.049163818359375, 0.0211639404296875, 0.044525146484375, -0.006072998046875, 0.0302276611328125, 0.020904541015625, 0.053619384765625, -0.035186767578125, 0.003261566162109375, 0.034820556640625, 0.005748748779296875, 0.04010009765625, 0.0211334228515625, 0.03778076171875, 0.037933349609375, -0.0230255126953125, -0.024566650390625, 0.0273895263671875, -0.0438232421875, 0.0182647705078125, 0.00359344482421875, 0.01507568359375, -0.015289306640625, -0.032470703125, 0.0107421875, 0.01041412353515625, -0.0657958984375, 0.01141357421875, 0.012786865234375, -0.0301971435546875, -0.03765869140625, -0.019256591796875, 0.024871826171875, -0.06927490234375, -0.019561767578125, -0.030029296875, 0.0283355712890625, 0.00759124755859375, -0.03082275390625, -0.048858642578125, -0.050048828125, -0.0194244384765625, 0.01390838623046875, -0.01303863525390625, 0.00601959228515625, 0.049224853515625, 0.0321044921875, -0.004909515380859375, -0.0029735565185546875, 0.04498291015625, 0.0248870849609375, 0.0225372314453125, 0.049163818359375, 0.034515380859375, 0.034881591796875, 0.043060302734375, -0.056304931640625, -0.02203369140625, 0.022186279296875, -0.019378662109375, -0.0163116455078125, -0.0161590576171875, 0.010009765625, 0.0201416015625, -0.039764404296875, 0.0138702392578125, 0.00479888916015625, -0.01226043701171875, 0.0297393798828125, -0.0157623291015625, 0.056915283203125, -0.022613525390625, 0.03448486328125, 0.006591796875, 0.0211944580078125, 0.001735687255859375, -0.031890869140625, -0.04266357421875, 0.011138916015625, 0.00665283203125, 0.017913818359375, -0.018035888671875, -0.005229949951171875, -0.048858642578125, 0.028045654296875, -0.0072479248046875, -0.0119171142578125, 0.041168212890625, 0.0005030632019042969, 0.0201568603515625, -0.0186767578125, -0.02301025390625, -0.0162811279296875, -0.0201568603515625, -0.0361328125, -0.03326416015625, -0.08111572265625, -0.0098114013671875, -0.0606689453125, -0.003475189208984375, -0.0123138427734375, -0.0308990478515625, -0.01175689697265625, 0.00699615478515625, 0.0298919677734375, -0.01224517822265625, 0.041473388671875, -0.0092926025390625, 0.0133056640625, 0.01244354248046875, 0.0176239013671875, -0.0311737060546875, 0.041534423828125, -0.00545501708984375, 0.018157958984375, -0.014556884765625, 0.08447265625, -0.00044989585876464844, 0.032501220703125, 0.042205810546875, -0.0347900390625, -0.1285400390625, -0.032379150390625, 0.01123809814453125, -0.0194091796875, -0.03375244140625, 0.03570556640625, 0.0374755859375, -0.03466796875, -0.023895263671875, -0.04052734375, 0.04998779296875, -0.07196044921875, 0.0225677490234375, 0.0455322265625, 0.034698486328125, 0.0286102294921875, 0.005771636962890625, -0.047943115234375, -0.0164642333984375, -0.056549072265625, 0.04779052734375, -0.031341552734375, 0.0770263671875, -0.03271484375, -0.0296783447265625, 0.0016317367553710938, 0.006744384765625, 0.0177001953125, 0.033050537109375, 0.0213470458984375, -0.016448974609375, -0.01168060302734375, -0.04498291015625, -0.0082550048828125, -0.0152740478515625, -0.0259246826171875, 0.024017333984375, -0.021514892578125, -0.0200958251953125, -0.024383544921875, 0.023040771484375, 0.02276611328125, 0.0080718994140625, 0.016937255859375, -0.01276397705078125, -0.0438232421875, -0.02557373046875, 0.0163421630859375, -0.0249176025390625, 0.01071929931640625, 0.0017461776733398438, 0.027496337890625, -0.00289154052734375, 0.018402099609375, -0.050048828125, 0.02685546875, 0.01126861572265625, -0.046844482421875, 0.078125, 0.0155487060546875, -0.03759765625, 0.00812530517578125, -0.0069580078125, 0.00458526611328125, 0.027679443359375, 0.049041748046875, -0.034515380859375, -0.033477783203125, -0.05169677734375, 0.02923583984375, -0.02117919921875, -0.044921875, -0.021087646484375, 0.01181793212890625, 0.009002685546875, -0.001979827880859375, 0.01454925537109375, -0.0042877197265625, -0.007503509521484375, -0.0927734375, -0.031341552734375, 0.01406097412109375, -0.0545654296875, -0.0133819580078125, -0.0367431640625, -0.0032482147216796875, -0.033355712890625, -0.006137847900390625, -0.03314208984375, 0.1722412109375, -0.0001239776611328125, 0.034423828125, -0.045379638671875, -0.01535797119140625, 0.013427734375, 0.007289886474609375, 0.029083251953125, 0.0438232421875, 0.043487548828125, -0.059661865234375, 0.01457977294921875, 0.01038360595703125, -0.03717041015625, 0.026123046875, 0.0430908203125, 0.01134490966796875, 0.034027099609375, 0.0163726806640625, -0.036834716796875, 0.005107879638671875, -0.033599853515625, 0.079345703125, 0.01348114013671875, -0.05047607421875, -0.040435791015625, 0.0160675048828125, 0.042755126953125, -0.020050048828125, 0.001995086669921875, -0.0122222900390625, 0.019500732421875, -0.018829345703125, -0.0281982421875, 0.0259552001953125, 0.042938232421875, 0.0149993896484375, -0.029571533203125, 0.0157623291015625, 0.0145111083984375, -0.046234130859375, 0.0107421875, -0.0279541015625, 0.036468505859375, 0.0015039443969726562, 0.032470703125, 0.048065185546875, 0.01013946533203125, -0.0455322265625, 0.007335662841796875, 0.01050567626953125, 0.0213775634765625, -0.015289306640625, -0.037445068359375, 0.0005326271057128906, -0.03863525390625, -0.00699615478515625, -0.038726806640625, 0.01058197021484375, 0.0171356201171875, 0.042938232421875, 0.00383758544921875, -0.015655517578125, -0.043670654296875, 0.062164306640625, 0.0286865234375, -0.00925445556640625, -0.035552978515625, -0.0660400390625, -0.02166748046875, -0.04107666015625, -0.00968170166015625, -0.013763427734375, 0.003940582275390625, 0.0202789306640625, -0.006023406982421875, -0.049041748046875, 0.01983642578125, 0.0259857177734375, -0.03594970703125, 0.044189453125, -0.032623291015625, -0.047027587890625, 0.03173828125, 0.029083251953125, -0.00568389892578125, 0.020721435546875, 0.041534423828125, 0.0059356689453125, 0.0011949539184570312, 0.039459228515625, 0.0023288726806640625, -0.0252532958984375, 0.0511474609375, 0.007415771484375, -0.058013916015625, 0.003108978271484375, 2.7298927307128906e-05, -0.0259857177734375, -0.031646728515625, -0.004405975341796875, 0.057647705078125, -0.0192718505859375, -0.013916015625, -0.0234527587890625, -0.029388427734375, 0.0041656494140625, 0.03814697265625, 0.052642822265625, 0.0132293701171875, -0.0038089752197265625, -0.01788330078125, 0.0183258056640625, -0.005535125732421875, 0.027923583984375, 0.0189361572265625, 0.0283660888671875, -0.055572509765625, 0.0406494140625, 0.019256591796875, -0.01261138916015625, 0.04119873046875, -0.025360107421875, 0.040771484375, -0.00682830810546875, 0.025970458984375, -0.032623291015625, -0.0171051025390625, 0.01421356201171875, 0.01187896728515625, 0.0222930908203125, -0.0347900390625, -0.061798095703125, 0.018798828125, 0.0312347412109375, 0.0121307373046875, 0.043853759765625, -0.0297393798828125, -0.0225677490234375, 0.048583984375, -0.02044677734375, 0.031036376953125, -0.05743408203125, 0.0204315185546875, 0.0074310302734375, 0.02520751953125, -0.0166168212890625, -0.036407470703125, -0.05169677734375, -0.0233154296875, 0.0273590087890625, -0.01131439208984375, 0.0394287109375, 0.0173187255859375, -0.032623291015625, -0.0369873046875, -0.01727294921875, 0.0256195068359375, 0.0193023681640625, -0.02618408203125, -0.0286865234375, -0.0136566162109375, -0.0098724365234375, 0.1080322265625, -0.015625, 0.053985595703125, -0.0169677734375, 0.0214996337890625, 0.0169830322265625, 0.0231475830078125, -0.003597259521484375, -0.0237579345703125, 0.0257720947265625, -0.00016236305236816406, -0.00628662109375, -0.02093505859375, -0.00864410400390625, 0.037353515625, -0.0171051025390625, 0.004993438720703125, -0.01197052001953125, 0.004070281982421875, 0.0286865234375, -0.014007568359375, -0.061553955078125, -0.02301025390625, 0.046600341796875, -0.0143280029296875, -0.0236053466796875, 0.03021240234375, -0.01345062255859375, 0.08380126953125, -0.017852783203125, -0.0032482147216796875, -0.0305938720703125, 0.00684356689453125, 0.0161895751953125, 0.023406982421875, -0.0310821533203125, -0.0008459091186523438, -0.0184478759765625, -0.035919189453125, -0.019561767578125, -0.0099029541015625, -0.01532745361328125, -0.030364990234375, 0.01071929931640625, 0.0362548828125, 0.0312347412109375, 0.0208892822265625, 0.003421783447265625, -0.0203857421875, 0.006580352783203125, 0.02410888671875, 0.0029163360595703125, 0.0231475830078125, 0.0156402587890625, 0.042755126953125, 0.03546142578125, -0.026947021484375, 0.0237884521484375, 0.0251312255859375, 0.029754638671875, -0.04156494140625, -0.0333251953125, -0.01824951171875, -0.0033550262451171875, 0.017791748046875, -0.032958984375, -0.0137939453125, 0.019622802734375, -0.037872314453125, -0.01446533203125, -0.02911376953125, -0.0447998046875, -0.0150146484375, 0.0251922607421875, 0.01019287109375, -0.01285552978515625, -0.036041259765625, 0.0174102783203125, -0.019439697265625, 0.00501251220703125, -0.0032024383544921875, -0.03619384765625, 0.05267333984375, -0.06396484375, -0.053009033203125, -4.470348358154297e-05, 0.00325775146484375, 0.020721435546875, -0.0313720703125, 0.06500244140625, 0.045318603515625, -0.03375244140625, -0.00412750244140625, 0.00799560546875, -0.019439697265625, -0.0219268798828125, -0.03125, 0.018402099609375, 0.0225830078125, -0.018646240234375, 0.002872467041015625, -0.032318115234375, 0.0246429443359375, 0.039093017578125, -0.0186767578125, -0.0210113525390625, -0.04876708984375, 0.0347900390625, -0.03704833984375, -0.00647735595703125, -0.045928955078125, 0.044830322265625, 0.0311126708984375, -0.0293121337890625, -0.0307159423828125, -0.0384521484375, -0.01181793212890625, -0.04388427734375, 0.032379150390625, -0.035736083984375, -0.004241943359375, 0.030914306640625, 0.019989013671875, -0.04083251953125, 0.039642333984375, 0.01076507568359375, -0.0067901611328125, 0.0015153884887695312, 0.028045654296875, -0.01212310791015625, -0.0019102096557617188, -0.032135009765625, -0.062042236328125, -0.0391845703125, -0.00598907470703125, -0.00865936279296875, -0.047698974609375, 0.016693115234375, -0.01303863525390625, -0.032806396484375, -0.0089874267578125, -0.003082275390625, 0.01131439208984375, -0.007083892822265625, 0.0015172958374023438, 0.0201568603515625, 0.022918701171875, -0.01934814453125, -0.058990478515625, 0.0243682861328125, 0.0025463104248046875, 0.004650115966796875, 0.0011234283447265625, 0.01812744140625, -0.0229644775390625, -0.016571044921875, 0.031890869140625, -0.0304718017578125, -0.0128326416015625, -0.0338134765625, 0.01214599609375, 0.020660400390625, 0.008026123046875, 0.060455322265625, -0.00543975830078125, 0.0150909423828125, -0.0215301513671875, 0.005886077880859375, -0.0097198486328125, -0.0167083740234375, -0.04058837890625, -0.062286376953125, -0.055419921875, -0.0268707275390625, -0.00881195068359375, -0.01062774658203125, -0.044342041015625, -0.01245880126953125, 0.00893402099609375, 0.0537109375, -0.0183258056640625, 0.0307159423828125, 0.021759033203125, -0.02410888671875, 0.0172882080078125, -0.0218963623046875, -0.01284027099609375, -0.040802001953125, 0.044158935546875, -0.014617919921875, 0.007198333740234375, -0.012939453125, 0.065185546875, -0.0310211181640625, 0.032196044921875, 0.04052734375, -0.053985595703125, -0.001705169677734375, 0.0244293212890625, 0.03460693359375, -0.04119873046875, -0.035064697265625, 0.013641357421875, -0.0382080078125, 0.02691650390625, -0.0192718505859375, 0.0389404296875, -0.0280914306640625, 0.041534423828125, -0.06451416015625, -0.0245819091796875, -0.0268096923828125, 0.011688232421875, -0.035888671875, 0.03240966796875, -0.0055084228515625, 0.0196533203125, 0.0158538818359375, -0.0496826171875, -0.0092010498046875, 0.007175445556640625, 0.023040771484375, 0.001163482666015625, -0.0372314453125, 0.044281005859375, 0.01494598388671875, 0.0221405029296875, -0.014434814453125, 0.04010009765625, -0.0188140869140625, 0.0198974609375, -0.0848388671875, -0.0165252685546875, 0.004673004150390625, -0.032073974609375, -0.0165252685546875, -0.031402587890625, -0.04913330078125, 0.004878997802734375, 0.03167724609375, -0.0129852294921875, 0.03228759765625, 0.0174560546875, 0.022674560546875, 0.007289886474609375, -0.01097869873046875, 0.0235748291015625, 0.04345703125, -0.042633056640625, 0.037811279296875, -0.0028743743896484375, 0.04254150390625, -0.0257415771484375, -0.014434814453125, -0.0011196136474609375, 0.03619384765625, 0.0024967193603515625, 0.0384521484375, 0.03594970703125, -0.0283355712890625, -0.042572021484375, -0.0269622802734375, -0.03839111328125, -0.007350921630859375, 0.023651123046875, -0.038330078125, 0.02886962890625, -0.04132080078125, -0.01351165771484375, -0.041778564453125, 0.01904296875, -0.00466156005859375, 0.005889892578125, -0.029937744140625, 0.005939483642578125, -0.0007734298706054688, 0.041168212890625, 0.005954742431640625, -0.03900146484375, 0.004932403564453125, -0.01323699951171875, -0.048126220703125, -0.0206298828125, 0.033721923828125, 0.031402587890625, 0.01611328125, 0.043701171875, 0.0179443359375, -0.0343017578125, -0.007228851318359375, 0.054840087890625, 0.0118560791015625, -0.029052734375, -0.036285400390625, -0.04339599609375, -0.015594482421875, -0.03619384765625, -0.0523681640625, -0.04058837890625, -0.0293121337890625, 0.0428466796875, 0.0115814208984375, -0.036163330078125, 0.04339599609375, 0.0126495361328125, 0.0246734619140625, 0.00531005859375, -0.0340576171875, -0.00821685791015625, 0.023956298828125, 0.01459503173828125, -0.00937652587890625, -0.01044464111328125, -0.00316619873046875, 0.03826904296875, -0.00943756103515625, 0.0162811279296875, 0.01483154296875, -0.0256195068359375, -0.06103515625, 0.025421142578125, -0.06256103515625, 0.00984954833984375, 0.01393890380859375, -0.0275421142578125, -0.01123046875, -0.00852203369140625, -0.027130126953125, -0.0248565673828125, 0.007808685302734375, 0.05059814453125, -0.00508880615234375, -0.0246429443359375, 0.026123046875, -0.00041484832763671875, 0.008148193359375, 0.0227813720703125, 0.019775390625, -0.007503509521484375, 0.034271240234375, -0.039031982421875, -0.0303192138671875, -0.0123291015625, -0.03460693359375, -0.01922607421875, -0.0223846435546875, 0.029022216796875, 0.0178375244140625, 0.01593017578125, -0.0095672607421875, 0.0199737548828125, -0.00714874267578125, -0.04168701171875, 0.043670654296875, -0.01605224609375, 0.004131317138671875, 0.0259246826171875, 0.0298614501953125, -0.0380859375, 0.003902435302734375, -0.04266357421875, 0.0174102783203125, -0.08624267578125, 0.054107666015625, 0.0020847320556640625, -0.0240631103515625, -0.0164031982421875, -0.024749755859375, 0.0312042236328125, -0.005817413330078125, 0.05499267578125, -0.02923583984375, -0.058807373046875, -0.0347900390625, -0.009552001953125, -0.044097900390625, 0.04736328125, -0.01641845703125, -0.03546142578125, -0.0143280029296875, -0.04638671875, 0.0389404296875, -0.005435943603515625, -0.033721923828125, 0.034912109375, 0.0186309814453125, -0.004390716552734375, 0.0200653076171875, -0.025177001953125, 0.0186309814453125, 0.0182342529296875, -0.00179290771484375, 0.033172607421875, -0.037078857421875, 0.0350341796875, -0.029022216796875, -0.0208892822265625, 0.017578125, 0.0240631103515625, -0.034393310546875, -0.0006103515625, 0.017913818359375, 0.03125, -0.056640625, 0.031707763671875, 0.0262451171875, 0.02239990234375, 0.037841796875, 0.0273895263671875, 0.02154541015625, 0.028411865234375, 0.01446533203125, 0.0155029296875, -0.00911712646484375, 0.034149169921875, 0.03228759765625, 0.0574951171875, 0.0066070556640625, 0.01556396484375, -0.017791748046875, 0.051116943359375, -0.0164947509765625, 0.027557373046875, -0.03948974609375, 0.0264434814453125, 0.0482177734375, -0.01898193359375, -0.005939483642578125, 0.0121917724609375, -0.048248291015625, -0.0237274169921875, 0.0264434814453125, -0.0177764892578125, 0.047882080078125, -0.0377197265625, -0.0163116455078125, 0.0008878707885742188, -0.04412841796875, -0.0021305084228515625, -0.003940582275390625, 0.0292816162109375, 0.06646728515625, -0.01122283935546875, 0.01904296875, 0.04718017578125, 0.00024700164794921875, 0.04339599609375, 0.048980712890625, -0.057708740234375, -0.00664520263671875, 0.030120849609375, 0.00965118408203125, 0.04791259765625, -0.01050567626953125, 0.020172119140625, -0.031768798828125, 0.009552001953125, -0.044952392578125, 0.048065185546875, -0.02001953125, -0.0144500732421875, 0.0037555694580078125, -0.0038166046142578125, 0.0264739990234375, 0.0027065277099609375, -0.01102447509765625, -0.037933349609375, 0.0200653076171875, 0.01175689697265625, 0.02764892578125, 0.046783447265625, -0.0233917236328125, -0.0247802734375, -0.02630615234375, -0.0146026611328125]\n"
     ]
    },
    {
     "data": {
      "text/plain": [
       "1024"
      ]
     },
     "execution_count": 47,
     "metadata": {},
     "output_type": "execute_result"
    }
   ],
   "source": [
    "# Test vectors\n",
    "\n",
    "vectors = embeddings.embed_query(\"How are you\")\n",
    "print(vectors)\n",
    "len(vectors)"
   ]
  },
  {
   "cell_type": "code",
   "execution_count": 48,
   "metadata": {},
   "outputs": [],
   "source": [
    "# Vector search Database\n",
    "\n",
    "index_name = os.environ.get(\"PINECONE_INDEX_NAME\")\n",
    "\n",
    "pc_doc_search = PineconeVectorStore.from_documents(\n",
    "    documents=doc,\n",
    "    index_name=index_name,\n",
    "    embedding=embeddings, \n",
    "    namespace=\"wondervector5000\" \n",
    ")\n"
   ]
  },
  {
   "cell_type": "code",
   "execution_count": 49,
   "metadata": {},
   "outputs": [],
   "source": [
    "# Cosine Retrieval from Vector Database\n",
    "\n",
    "def retrieve_query(query, k=2):\n",
    "    matching_results = pc_doc_search.similarity_search(query, k=k)\n",
    "    return matching_results"
   ]
  },
  {
   "cell_type": "code",
   "execution_count": 57,
   "metadata": {},
   "outputs": [],
   "source": [
    "from langchain.chains.question_answering import load_qa_chain\n",
    "\n",
    "OPENAI_API_KEY = os.environ.get(\"OPENAI_API_KEY\")\n",
    "\n",
    "chat_model_name = \"gpt-3.5-turbo-instruct-0914\"\n",
    "llm = OpenAI(api_key=OPENAI_API_KEY, model_name=chat_model_name, temperature=0.5)\n",
    "chain = load_qa_chain(llm, chain_type=\"stuff\")"
   ]
  },
  {
   "cell_type": "code",
   "execution_count": 58,
   "metadata": {},
   "outputs": [],
   "source": [
    "# Search answers from Vector Database\n",
    "\n",
    "def retrieve_answers(query):\n",
    "    doc_search = retrieve_query(query)\n",
    "    # print(doc_search)\n",
    "    response = chain.invoke({\"input_documents\": doc_search, \"question\": query})\n",
    "    return response\n",
    "    \n",
    "    \n"
   ]
  },
  {
   "cell_type": "code",
   "execution_count": 85,
   "metadata": {},
   "outputs": [
    {
     "name": "stdout",
     "output_type": "stream",
     "text": [
      "First question:  I don't know. This context does not mention anything about apples. \n",
      "Second question:  An LPU, or Language Processing Unit, is a type of processor designed specifically for AI and capable of running large language models at high speeds and energy efficiency. It is a new category of processor created by Groq. \n",
      "Third question:  Serverless is a term used to describe a cloud computing model where the cloud provider manages the infrastructure and servers, allowing developers to focus solely on writing and deploying code. In AWS, this is achieved through services like AWS Lambda. \n",
      "Fourth question:  Yes, AWS and Groq can be used together to create AI applications. Groq's LPU technology can be used to optimize and accelerate AI inference, while AWS provides a cloud computing platform for hosting and managing AI applications. \n"
     ]
    }
   ],
   "source": [
    "first_query = \"what is an apple?\"\n",
    "second_query = \"what is an LPU?\"\n",
    "third_query = \"what is serverless?\"\n",
    "fourth_query = \"Can AWS and groq be used to create AI applications?\"\n",
    "answer1 = retrieve_answers(first_query)\n",
    "answer2 = retrieve_answers(second_query)\n",
    "answer3 = retrieve_answers(third_query)\n",
    "answer4 = retrieve_answers(fourth_query)\n",
    "\n",
    "print(\"First question:\", answer1.get(\"output_text\"), \"\")\n",
    "print(\"Second question:\", answer2.get(\"output_text\"), \"\")\n",
    "print(\"Third question:\", answer3.get(\"output_text\"), \"\")\n",
    "print(\"Fourth question:\", answer4.get(\"output_text\"), \"\")\n"
   ]
  }
 ],
 "metadata": {
  "kernelspec": {
   "display_name": "Python 3",
   "language": "python",
   "name": "python3"
  },
  "language_info": {
   "codemirror_mode": {
    "name": "ipython",
    "version": 3
   },
   "file_extension": ".py",
   "mimetype": "text/x-python",
   "name": "python",
   "nbconvert_exporter": "python",
   "pygments_lexer": "ipython3",
   "version": "3.12.2"
  }
 },
 "nbformat": 4,
 "nbformat_minor": 2
}
